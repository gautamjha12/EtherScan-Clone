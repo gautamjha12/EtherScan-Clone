{
 "cells": [
  {
   "cell_type": "code",
   "execution_count": 1,
   "id": "5485554f",
   "metadata": {},
   "outputs": [
    {
     "name": "stdout",
     "output_type": "stream",
     "text": [
      "Requirement already satisfied: web3 in c:\\users\\admin\\anaconda3\\lib\\site-packages (5.29.0)\n",
      "Requirement already satisfied: hexbytes<1.0.0,>=0.1.0 in c:\\users\\admin\\anaconda3\\lib\\site-packages (from web3) (0.2.2)\n",
      "Requirement already satisfied: ipfshttpclient==0.8.0a2 in c:\\users\\admin\\anaconda3\\lib\\site-packages (from web3) (0.8.0a2)\n",
      "Requirement already satisfied: jsonschema<5,>=3.2.0 in c:\\users\\admin\\anaconda3\\lib\\site-packages (from web3) (3.2.0)\n",
      "Requirement already satisfied: websockets<10,>=9.1 in c:\\users\\admin\\anaconda3\\lib\\site-packages (from web3) (9.1)\n",
      "Requirement already satisfied: eth-utils<2.0.0,>=1.9.5 in c:\\users\\admin\\anaconda3\\lib\\site-packages (from web3) (1.10.0)\n",
      "Requirement already satisfied: aiohttp<4,>=3.7.4.post0 in c:\\users\\admin\\anaconda3\\lib\\site-packages (from web3) (3.8.1)\n",
      "Requirement already satisfied: protobuf<4,>=3.10.0 in c:\\users\\admin\\anaconda3\\lib\\site-packages (from web3) (3.19.4)\n",
      "Requirement already satisfied: eth-account<0.6.0,>=0.5.7 in c:\\users\\admin\\anaconda3\\lib\\site-packages (from web3) (0.5.7)\n",
      "Requirement already satisfied: requests<3.0.0,>=2.16.0 in c:\\users\\admin\\anaconda3\\lib\\site-packages (from web3) (2.27.1)\n",
      "Requirement already satisfied: eth-abi<3.0.0,>=2.0.0b6 in c:\\users\\admin\\anaconda3\\lib\\site-packages (from web3) (2.1.1)\n",
      "Requirement already satisfied: eth-typing<3.0.0,>=2.0.0 in c:\\users\\admin\\anaconda3\\lib\\site-packages (from web3) (2.3.0)\n",
      "Requirement already satisfied: eth-hash[pycryptodome]<1.0.0,>=0.2.0 in c:\\users\\admin\\anaconda3\\lib\\site-packages (from web3) (0.3.2)\n",
      "Requirement already satisfied: pywin32>=223 in c:\\users\\admin\\anaconda3\\lib\\site-packages (from web3) (228)\n",
      "Requirement already satisfied: lru-dict<2.0.0,>=1.1.6 in c:\\users\\admin\\anaconda3\\lib\\site-packages (from web3) (1.1.7)\n",
      "Requirement already satisfied: multiaddr>=0.0.7 in c:\\users\\admin\\anaconda3\\lib\\site-packages (from ipfshttpclient==0.8.0a2->web3) (0.0.9)\n",
      "Requirement already satisfied: frozenlist>=1.1.1 in c:\\users\\admin\\anaconda3\\lib\\site-packages (from aiohttp<4,>=3.7.4.post0->web3) (1.3.0)\n",
      "Requirement already satisfied: aiosignal>=1.1.2 in c:\\users\\admin\\anaconda3\\lib\\site-packages (from aiohttp<4,>=3.7.4.post0->web3) (1.2.0)\n",
      "Requirement already satisfied: yarl<2.0,>=1.0 in c:\\users\\admin\\anaconda3\\lib\\site-packages (from aiohttp<4,>=3.7.4.post0->web3) (1.7.2)\n",
      "Requirement already satisfied: attrs>=17.3.0 in c:\\users\\admin\\anaconda3\\lib\\site-packages (from aiohttp<4,>=3.7.4.post0->web3) (21.2.0)\n",
      "Requirement already satisfied: charset-normalizer<3.0,>=2.0 in c:\\users\\admin\\anaconda3\\lib\\site-packages (from aiohttp<4,>=3.7.4.post0->web3) (2.0.4)\n",
      "Requirement already satisfied: async-timeout<5.0,>=4.0.0a3 in c:\\users\\admin\\anaconda3\\lib\\site-packages (from aiohttp<4,>=3.7.4.post0->web3) (4.0.2)\n",
      "Requirement already satisfied: multidict<7.0,>=4.5 in c:\\users\\admin\\anaconda3\\lib\\site-packages (from aiohttp<4,>=3.7.4.post0->web3) (6.0.2)\n",
      "Requirement already satisfied: parsimonious<0.9.0,>=0.8.0 in c:\\users\\admin\\anaconda3\\lib\\site-packages (from eth-abi<3.0.0,>=2.0.0b6->web3) (0.8.1)\n",
      "Requirement already satisfied: eth-rlp<2,>=0.1.2 in c:\\users\\admin\\anaconda3\\lib\\site-packages (from eth-account<0.6.0,>=0.5.7->web3) (0.2.1)\n",
      "Requirement already satisfied: bitarray<1.3.0,>=1.2.1 in c:\\users\\admin\\anaconda3\\lib\\site-packages (from eth-account<0.6.0,>=0.5.7->web3) (1.2.2)\n",
      "Requirement already satisfied: rlp<3,>=1.0.0 in c:\\users\\admin\\anaconda3\\lib\\site-packages (from eth-account<0.6.0,>=0.5.7->web3) (2.0.1)\n",
      "Requirement already satisfied: eth-keyfile<0.6.0,>=0.5.0 in c:\\users\\admin\\anaconda3\\lib\\site-packages (from eth-account<0.6.0,>=0.5.7->web3) (0.5.1)\n",
      "Requirement already satisfied: eth-keys<0.4.0,>=0.3.4 in c:\\users\\admin\\anaconda3\\lib\\site-packages (from eth-account<0.6.0,>=0.5.7->web3) (0.3.4)\n",
      "Requirement already satisfied: pycryptodome<4,>=3.6.6 in c:\\users\\admin\\anaconda3\\lib\\site-packages (from eth-hash[pycryptodome]<1.0.0,>=0.2.0->web3) (3.14.1)\n",
      "Requirement already satisfied: cytoolz<1.0.0,>=0.10.1 in c:\\users\\admin\\anaconda3\\lib\\site-packages (from eth-utils<2.0.0,>=1.9.5->web3) (0.11.0)\n",
      "Requirement already satisfied: pyrsistent>=0.14.0 in c:\\users\\admin\\anaconda3\\lib\\site-packages (from jsonschema<5,>=3.2.0->web3) (0.18.0)\n",
      "Requirement already satisfied: setuptools in c:\\users\\admin\\anaconda3\\lib\\site-packages (from jsonschema<5,>=3.2.0->web3) (58.0.4)\n",
      "Requirement already satisfied: six>=1.11.0 in c:\\users\\admin\\anaconda3\\lib\\site-packages (from jsonschema<5,>=3.2.0->web3) (1.16.0)\n",
      "Requirement already satisfied: idna<4,>=2.5 in c:\\users\\admin\\anaconda3\\lib\\site-packages (from requests<3.0.0,>=2.16.0->web3) (3.2)\n",
      "Requirement already satisfied: certifi>=2017.4.17 in c:\\users\\admin\\anaconda3\\lib\\site-packages (from requests<3.0.0,>=2.16.0->web3) (2021.10.8)\n",
      "Requirement already satisfied: urllib3<1.27,>=1.21.1 in c:\\users\\admin\\anaconda3\\lib\\site-packages (from requests<3.0.0,>=2.16.0->web3) (1.26.7)\n",
      "Requirement already satisfied: toolz>=0.8.0 in c:\\users\\admin\\anaconda3\\lib\\site-packages (from cytoolz<1.0.0,>=0.10.1->eth-utils<2.0.0,>=1.9.5->web3) (0.11.1)\n",
      "Requirement already satisfied: base58 in c:\\users\\admin\\anaconda3\\lib\\site-packages (from multiaddr>=0.0.7->ipfshttpclient==0.8.0a2->web3) (2.1.1)\n",
      "Requirement already satisfied: varint in c:\\users\\admin\\anaconda3\\lib\\site-packages (from multiaddr>=0.0.7->ipfshttpclient==0.8.0a2->web3) (1.0.2)\n",
      "Requirement already satisfied: netaddr in c:\\users\\admin\\anaconda3\\lib\\site-packages (from multiaddr>=0.0.7->ipfshttpclient==0.8.0a2->web3) (0.8.0)\n",
      "Note: you may need to restart the kernel to use updated packages.\n"
     ]
    }
   ],
   "source": [
    "pip install web3"
   ]
  },
  {
   "cell_type": "code",
   "execution_count": 1,
   "id": "38ce74b3",
   "metadata": {},
   "outputs": [
    {
     "name": "stdout",
     "output_type": "stream",
     "text": [
      "14635508\n"
     ]
    }
   ],
   "source": [
    "import config\n",
    "from web3 import Web3\n",
    "\n",
    "w3 = Web3(Web3.HTTPProvider(\"https://mainnet.infura.io/v3/832c82cb61bb44519995974c665b422f\"))\n",
    "\n",
    "print(w3.eth.block_number)"
   ]
  },
  {
   "cell_type": "code",
   "execution_count": 5,
   "id": "8ab0563e",
   "metadata": {},
   "outputs": [],
   "source": [
    "0xB7e390864a90b7b923C9f9310C6F98aafE43F707\n",
    "balance = (w3.eth.get_balance(\"0xB7e390864a90b7b923C9f9310C6F98aafE43F707\"))"
   ]
  },
  {
   "cell_type": "code",
   "execution_count": 6,
   "id": "c01cb2f6",
   "metadata": {},
   "outputs": [
    {
     "data": {
      "text/plain": [
       "Decimal('10.96237745496109738')"
      ]
     },
     "execution_count": 6,
     "metadata": {},
     "output_type": "execute_result"
    }
   ],
   "source": [
    "ether_balance = w3.fromWei(balance,'ether')\n",
    "ether_balance"
   ]
  },
  {
   "cell_type": "code",
   "execution_count": null,
   "id": "5e02f7c5",
   "metadata": {},
   "outputs": [],
   "source": []
  }
 ],
 "metadata": {
  "kernelspec": {
   "display_name": "Python 3 (ipykernel)",
   "language": "python",
   "name": "python3"
  },
  "language_info": {
   "codemirror_mode": {
    "name": "ipython",
    "version": 3
   },
   "file_extension": ".py",
   "mimetype": "text/x-python",
   "name": "python",
   "nbconvert_exporter": "python",
   "pygments_lexer": "ipython3",
   "version": "3.9.7"
  }
 },
 "nbformat": 4,
 "nbformat_minor": 5
}
