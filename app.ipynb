{
 "cells": [
  {
   "cell_type": "code",
   "execution_count": 9,
   "id": "83710a9f",
   "metadata": {},
   "outputs": [],
   "source": [
    "from flask import Flask,render_template\n",
    "import config\n",
    "from web3 import Web3\n",
    "import ccxt\n",
    "import time\n",
    "\n",
    "app = Flask(__name__)\n",
    "w3 = Web3(Web3.HTTPProvider(config.INFURA_URL))\n",
    "\n",
    "@app.route(\"/\")\n",
    "def index():\n",
    "    binance = ccxt.binance()\n",
    "    ethereum_price = binance.fetch_ticker('ETH/USDC')\n",
    "        \n",
    "    latest_blocks = []\n",
    "    for block_number in range(w3.eth.block_number, w3.eth.block_number-10, -1):\n",
    "        block = w3.eth.get_block(block_number)\n",
    "        latest_blocks.append(block)\n",
    "    \n",
    "    latest_transactions = []\n",
    "    for tx in lastest_blocks[-1]['transactions'][-10:]:\n",
    "        transaction = w3.eth.get_transaction(tx)\n",
    "        latest_transactions.append(transaction)\n",
    "\n",
    "    current_time = time.time()\n",
    "    return render_template(\"index.html\", ethereum_price=ethereum_price, latest_blocks=latest_blocks, latest_transactions=latest_transactions )\n",
    "\n",
    "    \n",
    "@app.route(\"/address/<addr>\")\n",
    "def address(addr):\n",
    "    return render_template(\"address.html\", addr=addr)\n",
    "    \n",
    "@app.route(\"/tx/<hash>\")\n",
    "def transaction(hash):\n",
    "    transaction = w3.eth.get_transaction(hash)\n",
    "    return render_template(\"transaction.html\", transaction=transaction, hash=hash)\n",
    "\n",
    "@app.route(\"/block/<block_number>\")\n",
    "def block(block_number):\n",
    "    return render_template(\"block.html\", block_number=block_number)\n",
    "\n",
    "    \n"
   ]
  },
  {
   "cell_type": "code",
   "execution_count": 10,
   "id": "27802baf",
   "metadata": {},
   "outputs": [
    {
     "name": "stdout",
     "output_type": "stream",
     "text": [
      " * Serving Flask app \"__main__\" (lazy loading)\n",
      " * Environment: production\n",
      "\u001b[31m   WARNING: This is a development server. Do not use it in a production deployment.\u001b[0m\n",
      "\u001b[2m   Use a production WSGI server instead.\u001b[0m\n",
      " * Debug mode: off\n"
     ]
    },
    {
     "name": "stderr",
     "output_type": "stream",
     "text": [
      " * Running on http://127.0.0.1:5000/ (Press CTRL+C to quit)\n",
      "[2022-04-24 10:33:58,252] ERROR in app: Exception on / [GET]\n",
      "Traceback (most recent call last):\n",
      "  File \"C:\\Users\\admin\\anaconda3\\lib\\site-packages\\flask\\app.py\", line 2447, in wsgi_app\n",
      "    response = self.full_dispatch_request()\n",
      "  File \"C:\\Users\\admin\\anaconda3\\lib\\site-packages\\flask\\app.py\", line 1952, in full_dispatch_request\n",
      "    rv = self.handle_user_exception(e)\n",
      "  File \"C:\\Users\\admin\\anaconda3\\lib\\site-packages\\flask\\app.py\", line 1821, in handle_user_exception\n",
      "    reraise(exc_type, exc_value, tb)\n",
      "  File \"C:\\Users\\admin\\anaconda3\\lib\\site-packages\\flask\\_compat.py\", line 39, in reraise\n",
      "    raise value\n",
      "  File \"C:\\Users\\admin\\anaconda3\\lib\\site-packages\\flask\\app.py\", line 1950, in full_dispatch_request\n",
      "    rv = self.dispatch_request()\n",
      "  File \"C:\\Users\\admin\\anaconda3\\lib\\site-packages\\flask\\app.py\", line 1936, in dispatch_request\n",
      "    return self.view_functions[rule.endpoint](**req.view_args)\n",
      "  File \"C:\\Users\\admin\\AppData\\Local\\Temp/ipykernel_15784/1331578600.py\", line 21, in index\n",
      "    for tx in lastest_blocks[-1]['transactions'][-10:]:\n",
      "NameError: name 'lastest_blocks' is not defined\n",
      "127.0.0.1 - - [24/Apr/2022 10:33:58] \"GET / HTTP/1.1\" 500 -\n",
      "[2022-04-24 10:36:51,823] ERROR in app: Exception on / [GET]\n",
      "Traceback (most recent call last):\n",
      "  File \"C:\\Users\\admin\\anaconda3\\lib\\site-packages\\flask\\app.py\", line 2447, in wsgi_app\n",
      "    response = self.full_dispatch_request()\n",
      "  File \"C:\\Users\\admin\\anaconda3\\lib\\site-packages\\flask\\app.py\", line 1952, in full_dispatch_request\n",
      "    rv = self.handle_user_exception(e)\n",
      "  File \"C:\\Users\\admin\\anaconda3\\lib\\site-packages\\flask\\app.py\", line 1821, in handle_user_exception\n",
      "    reraise(exc_type, exc_value, tb)\n",
      "  File \"C:\\Users\\admin\\anaconda3\\lib\\site-packages\\flask\\_compat.py\", line 39, in reraise\n",
      "    raise value\n",
      "  File \"C:\\Users\\admin\\anaconda3\\lib\\site-packages\\flask\\app.py\", line 1950, in full_dispatch_request\n",
      "    rv = self.dispatch_request()\n",
      "  File \"C:\\Users\\admin\\anaconda3\\lib\\site-packages\\flask\\app.py\", line 1936, in dispatch_request\n",
      "    return self.view_functions[rule.endpoint](**req.view_args)\n",
      "  File \"C:\\Users\\admin\\AppData\\Local\\Temp/ipykernel_15784/1331578600.py\", line 21, in index\n",
      "    for tx in lastest_blocks[-1]['transactions'][-10:]:\n",
      "NameError: name 'lastest_blocks' is not defined\n",
      "127.0.0.1 - - [24/Apr/2022 10:36:51] \"GET / HTTP/1.1\" 500 -\n"
     ]
    }
   ],
   "source": [
    "if __name__ == \"__main__\":\n",
    "#     app.debug = True\n",
    "\n",
    "    app.run()"
   ]
  },
  {
   "cell_type": "code",
   "execution_count": null,
   "id": "d3db7d65",
   "metadata": {},
   "outputs": [],
   "source": []
  }
 ],
 "metadata": {
  "kernelspec": {
   "display_name": "Python 3 (ipykernel)",
   "language": "python",
   "name": "python3"
  },
  "language_info": {
   "codemirror_mode": {
    "name": "ipython",
    "version": 3
   },
   "file_extension": ".py",
   "mimetype": "text/x-python",
   "name": "python",
   "nbconvert_exporter": "python",
   "pygments_lexer": "ipython3",
   "version": "3.9.7"
  }
 },
 "nbformat": 4,
 "nbformat_minor": 5
}
